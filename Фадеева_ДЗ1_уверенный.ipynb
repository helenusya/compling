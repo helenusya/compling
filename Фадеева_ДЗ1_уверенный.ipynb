{
 "cells": [
  {
   "cell_type": "markdown",
   "metadata": {},
   "source": [
    "<h1>Уровень 2</h1> "
   ]
  },
  {
   "cell_type": "markdown",
   "metadata": {
    "id": "8yo-qD3Poe8u"
   },
   "source": [
    "<h1>1. Предобработка</h1> "
   ]
  },
  {
   "cell_type": "markdown",
   "metadata": {
    "id": "8yo-qD3Poe8u"
   },
   "source": [
    "<h3>Открываем корпус</h3> "
   ]
  },
  {
   "cell_type": "code",
   "execution_count": null,
   "metadata": {},
   "outputs": [],
   "source": [
    "!wget https://raw.githubusercontent.com/helenusya/compling/main/harry-potter.txt"
   ]
  },
  {
   "cell_type": "code",
   "execution_count": 6,
   "metadata": {},
   "outputs": [
    {
     "data": {
      "text/plain": [
       "\"\\nHarry Potter and the Sorcerer's Stone \\n \\n \\nCHAPTER ONE \\n \\nTHE BOY WHO LIVED \\n \\nMr. and Mrs. Dursley\""
      ]
     },
     "execution_count": 6,
     "metadata": {},
     "output_type": "execute_result"
    }
   ],
   "source": [
    "file_path = 'harry-potter.txt'\n",
    "with open(file_path, 'r') as file: \n",
    "    hp_content = file.read()\n",
    "    \n",
    "hp_content[:100]"
   ]
  },
  {
   "cell_type": "markdown",
   "metadata": {
    "id": "8yo-qD3Poe8u"
   },
   "source": [
    "<h3>Чистим текст</h3> "
   ]
  },
  {
   "cell_type": "code",
   "execution_count": 7,
   "metadata": {
    "colab": {
     "base_uri": "https://localhost:8080/",
     "height": 35
    },
    "id": "p7JA0zb8Yx4n",
    "outputId": "10ec91ac-202c-442b-8371-43f670dcfa0c"
   },
   "outputs": [
    {
     "data": {
      "text/plain": [
       "'harry potter and the sorcerers stone chapter one the boy who lived mr and mrs dursley of number four'"
      ]
     },
     "execution_count": 7,
     "metadata": {},
     "output_type": "execute_result"
    }
   ],
   "source": [
    "import re\n",
    "\n",
    "def clean_text(hp):\n",
    "    text = hp.lower() \n",
    "    text = re.sub(r'[^a-z\\s]', '', text) \n",
    "    text = re.sub(r'\\s+', ' ', text).strip() \n",
    "    return text\n",
    "cleaned_hp = clean_text(hp_content)\n",
    "\n",
    "cleaned_hp[:100]"
   ]
  },
  {
   "cell_type": "markdown",
   "metadata": {},
   "source": [
    "<h3>Токенизируем корпус</h3>"
   ]
  },
  {
   "cell_type": "code",
   "execution_count": 8,
   "metadata": {
    "colab": {
     "base_uri": "https://localhost:8080/",
     "height": 35
    },
    "id": "p7JA0zb8Yx4n",
    "outputId": "10ec91ac-202c-442b-8371-43f670dcfa0c"
   },
   "outputs": [
    {
     "name": "stderr",
     "output_type": "stream",
     "text": [
      "[nltk_data] Downloading package punkt to /Users/helen/nltk_data...\n",
      "[nltk_data]   Package punkt is already up-to-date!\n"
     ]
    },
    {
     "data": {
      "text/plain": [
       "['harry',\n",
       " 'potter',\n",
       " 'and',\n",
       " 'the',\n",
       " 'sorcerers',\n",
       " 'stone',\n",
       " 'chapter',\n",
       " 'one',\n",
       " 'the',\n",
       " 'boy']"
      ]
     },
     "execution_count": 8,
     "metadata": {},
     "output_type": "execute_result"
    }
   ],
   "source": [
    "import nltk\n",
    "from nltk.tokenize import word_tokenize\n",
    "nltk.download('punkt')\n",
    "tokens_hp = word_tokenize(cleaned_hp) #токенизация по словам\n",
    "\n",
    "tokens_hp[:10]"
   ]
  },
  {
   "cell_type": "code",
   "execution_count": 38,
   "metadata": {},
   "outputs": [
    {
     "data": {
      "text/plain": [
       "1084075"
      ]
     },
     "execution_count": 38,
     "metadata": {},
     "output_type": "execute_result"
    }
   ],
   "source": [
    "len(tokens_hp) #кол-во слов после токенизации"
   ]
  },
  {
   "cell_type": "markdown",
   "metadata": {
    "id": "8yo-qD3Poe8u"
   },
   "source": [
    "<h3>Удаляем стоп-слова</h3> "
   ]
  },
  {
   "cell_type": "code",
   "execution_count": 9,
   "metadata": {
    "scrolled": true
   },
   "outputs": [
    {
     "name": "stderr",
     "output_type": "stream",
     "text": [
      "[nltk_data] Downloading package stopwords to /Users/helen/nltk_data...\n",
      "[nltk_data]   Package stopwords is already up-to-date!\n"
     ]
    },
    {
     "name": "stdout",
     "output_type": "stream",
     "text": [
      "Токены без стоп-слов: ['harry', 'potter', 'sorcerers', 'stone', 'chapter', 'one', 'boy', 'lived', 'mr', 'mrs', 'dursley', 'number', 'four', 'privet', 'drive', 'proud', 'say', 'perfectly', 'normal', 'thank', 'much', 'last', 'people', 'youd', 'expect', 'involved', 'anything', 'strange', 'mysterious', 'didnt', 'hold', 'nonsense', 'mr', 'dursley', 'director', 'firm', 'called', 'grunnings', 'made', 'drills', 'big', 'beefy', 'man', 'hardly', 'neck', 'although', 'large', 'mustache', 'mrs', 'dursley']\n"
     ]
    }
   ],
   "source": [
    "from nltk.corpus import stopwords\n",
    "nltk.download('stopwords')\n",
    "stop_words = set(stopwords.words('english')) \n",
    "filtered_hp_tokens = [word for word in tokens_hp if word.lower() not in stop_words]\n",
    "\n",
    "print(\"Токены без стоп-слов:\", filtered_hp_tokens[:50])"
   ]
  },
  {
   "cell_type": "code",
   "execution_count": 10,
   "metadata": {},
   "outputs": [
    {
     "data": {
      "text/plain": [
       "588075"
      ]
     },
     "execution_count": 10,
     "metadata": {},
     "output_type": "execute_result"
    }
   ],
   "source": [
    "len(filtered_hp_tokens) #кол-во слов в корпусе после чистки"
   ]
  },
  {
   "cell_type": "markdown",
   "metadata": {
    "id": "8yo-qD3Poe8u"
   },
   "source": [
    "<h1>2. Обучение и поиск сходств Word2Vec</h1> "
   ]
  },
  {
   "cell_type": "markdown",
   "metadata": {
    "id": "8yo-qD3Poe8u"
   },
   "source": [
    "<h3>Обучение</h3> "
   ]
  },
  {
   "cell_type": "code",
   "execution_count": 11,
   "metadata": {
    "id": "OqaNVtsEaWZP"
   },
   "outputs": [
    {
     "name": "stderr",
     "output_type": "stream",
     "text": [
      "/Users/helen/Library/Python/3.9/lib/python/site-packages/urllib3/__init__.py:35: NotOpenSSLWarning: urllib3 v2 only supports OpenSSL 1.1.1+, currently the 'ssl' module is compiled with 'LibreSSL 2.8.3'. See: https://github.com/urllib3/urllib3/issues/3020\n",
      "  warnings.warn(\n"
     ]
    }
   ],
   "source": [
    "from gensim.models import Word2Vec\n",
    "\n",
    "model = Word2Vec(sentences=[filtered_hp_tokens], vector_size=100, window=5, min_count=1, workers=4)"
   ]
  },
  {
   "cell_type": "markdown",
   "metadata": {
    "id": "8yo-qD3Poe8u"
   },
   "source": [
    "<h3>Ищем похожее</h3> "
   ]
  },
  {
   "cell_type": "code",
   "execution_count": 12,
   "metadata": {
    "colab": {
     "base_uri": "https://localhost:8080/"
    },
    "id": "NUZfHvbPiKyr",
    "outputId": "e70b0c9b-505c-4f09-8f3d-486f2228e6c7",
    "scrolled": true
   },
   "outputs": [
    {
     "data": {
      "text/plain": [
       "[('dudley', 0.5906423926353455),\n",
       " ('vernon', 0.589601457118988),\n",
       " ('aunt', 0.5783301591873169),\n",
       " ('hagrid', 0.5707481503486633),\n",
       " ('hed', 0.5565683841705322),\n",
       " ('made', 0.5529312491416931),\n",
       " ('petunia', 0.5344283580780029),\n",
       " ('uncle', 0.5343253016471863),\n",
       " ('harry', 0.5245795249938965),\n",
       " ('still', 0.5219115614891052)]"
      ]
     },
     "execution_count": 12,
     "metadata": {},
     "output_type": "execute_result"
    }
   ],
   "source": [
    "model.wv.most_similar([\"boy\"])"
   ]
  },
  {
   "cell_type": "code",
   "execution_count": 13,
   "metadata": {
    "colab": {
     "base_uri": "https://localhost:8080/"
    },
    "id": "NUZfHvbPiKyr",
    "outputId": "e70b0c9b-505c-4f09-8f3d-486f2228e6c7",
    "scrolled": true
   },
   "outputs": [
    {
     "data": {
      "text/plain": [
       "[('hagrid', 0.8556053042411804),\n",
       " ('dudley', 0.8393589854240417),\n",
       " ('uncle', 0.7943820357322693),\n",
       " ('vernon', 0.7870103120803833),\n",
       " ('one', 0.7852519154548645),\n",
       " ('yeh', 0.7702403664588928),\n",
       " ('didnt', 0.7471270561218262),\n",
       " ('petunia', 0.7425126433372498),\n",
       " ('aunt', 0.7305089235305786),\n",
       " ('mr', 0.7217004895210266)]"
      ]
     },
     "execution_count": 13,
     "metadata": {},
     "output_type": "execute_result"
    }
   ],
   "source": [
    "model.wv.most_similar([\"harry\"])"
   ]
  },
  {
   "cell_type": "code",
   "execution_count": 14,
   "metadata": {
    "colab": {
     "base_uri": "https://localhost:8080/"
    },
    "id": "NUZfHvbPiKyr",
    "outputId": "e70b0c9b-505c-4f09-8f3d-486f2228e6c7",
    "scrolled": true
   },
   "outputs": [
    {
     "data": {
      "text/plain": [
       "[('macmillan', 0.3764644265174866),\n",
       " ('exauror', 0.3666265904903412),\n",
       " ('bile', 0.35519924759864807),\n",
       " ('whassamatter', 0.3529665768146515),\n",
       " ('urg', 0.3345831036567688),\n",
       " ('mountains', 0.33246079087257385),\n",
       " ('mens', 0.32625073194503784),\n",
       " ('listing', 0.32256874442100525),\n",
       " ('entries', 0.32203593850135803),\n",
       " ('want', 0.31939002871513367)]"
      ]
     },
     "execution_count": 14,
     "metadata": {},
     "output_type": "execute_result"
    }
   ],
   "source": [
    "model.wv.most_similar([\"ron\"])"
   ]
  },
  {
   "cell_type": "code",
   "execution_count": 15,
   "metadata": {
    "colab": {
     "base_uri": "https://localhost:8080/"
    },
    "id": "NUZfHvbPiKyr",
    "outputId": "e70b0c9b-505c-4f09-8f3d-486f2228e6c7",
    "scrolled": true
   },
   "outputs": [
    {
     "data": {
      "text/plain": [
       "[('revisiting', 0.4092555642127991),\n",
       " ('autobiography', 0.3797079622745514),\n",
       " ('accomplished', 0.36629387736320496),\n",
       " ('beliefmalfoy', 0.35656821727752686),\n",
       " ('betweentimes', 0.33896687626838684),\n",
       " ('proceed', 0.3384031057357788),\n",
       " ('cheated', 0.3351730406284332),\n",
       " ('trawled', 0.3338865339756012),\n",
       " ('boneless', 0.3276631534099579),\n",
       " ('yesand', 0.32694026827812195)]"
      ]
     },
     "execution_count": 15,
     "metadata": {},
     "output_type": "execute_result"
    }
   ],
   "source": [
    "model.wv.most_similar([\"hermione\"])"
   ]
  },
  {
   "cell_type": "code",
   "execution_count": 16,
   "metadata": {
    "colab": {
     "base_uri": "https://localhost:8080/"
    },
    "id": "NUZfHvbPiKyr",
    "outputId": "e70b0c9b-505c-4f09-8f3d-486f2228e6c7",
    "scrolled": true
   },
   "outputs": [
    {
     "data": {
      "text/plain": [
       "[('scrupulously', 0.38615429401397705),\n",
       " ('selfsame', 0.373300701379776),\n",
       " ('passin', 0.3542798161506653),\n",
       " ('rift', 0.3447246849536896),\n",
       " ('blackberries', 0.33914417028427124),\n",
       " ('fawkes', 0.3380577266216278),\n",
       " ('balustrade', 0.33737117052078247),\n",
       " ('nosebleed', 0.33555689454078674),\n",
       " ('cut', 0.3314865529537201),\n",
       " ('heap', 0.32776695489883423)]"
      ]
     },
     "execution_count": 16,
     "metadata": {},
     "output_type": "execute_result"
    }
   ],
   "source": [
    "model.wv.most_similar([\"gryffindor\"])"
   ]
  },
  {
   "cell_type": "code",
   "execution_count": 17,
   "metadata": {
    "colab": {
     "base_uri": "https://localhost:8080/"
    },
    "id": "NUZfHvbPiKyr",
    "outputId": "e70b0c9b-505c-4f09-8f3d-486f2228e6c7",
    "scrolled": true
   },
   "outputs": [
    {
     "data": {
      "text/plain": [
       "[('haunt', 0.39263683557510376),\n",
       " ('stretching', 0.37875601649284363),\n",
       " ('wrongfoot', 0.3670279085636139),\n",
       " ('dunderhead', 0.36695173382759094),\n",
       " ('glade', 0.3651750683784485),\n",
       " ('sail', 0.3584314286708832),\n",
       " ('thirtieth', 0.35657799243927),\n",
       " ('reconstructions', 0.3533407151699066),\n",
       " ('nightmare', 0.352595716714859),\n",
       " ('eccentricities', 0.3435317575931549)]"
      ]
     },
     "execution_count": 17,
     "metadata": {},
     "output_type": "execute_result"
    }
   ],
   "source": [
    "model.wv.most_similar([\"slytherin\"])"
   ]
  },
  {
   "cell_type": "markdown",
   "metadata": {
    "id": "8yo-qD3Poe8u"
   },
   "source": [
    "<h3>Считаем сходство</h3> "
   ]
  },
  {
   "cell_type": "code",
   "execution_count": 18,
   "metadata": {
    "colab": {
     "base_uri": "https://localhost:8080/"
    },
    "id": "xe6LTqHZcuxT",
    "outputId": "787d4dfa-2c9d-4069-d04a-93e08e8f26f7"
   },
   "outputs": [
    {
     "data": {
      "text/plain": [
       "0.39261347"
      ]
     },
     "execution_count": 18,
     "metadata": {},
     "output_type": "execute_result"
    }
   ],
   "source": [
    "model.wv.similarity('boy','magic')"
   ]
  },
  {
   "cell_type": "code",
   "execution_count": 31,
   "metadata": {
    "colab": {
     "base_uri": "https://localhost:8080/"
    },
    "id": "xe6LTqHZcuxT",
    "outputId": "787d4dfa-2c9d-4069-d04a-93e08e8f26f7"
   },
   "outputs": [
    {
     "data": {
      "text/plain": [
       "0.3083551"
      ]
     },
     "execution_count": 31,
     "metadata": {},
     "output_type": "execute_result"
    }
   ],
   "source": [
    "model.wv.similarity('harry','voldemort')"
   ]
  },
  {
   "cell_type": "code",
   "execution_count": 33,
   "metadata": {
    "colab": {
     "base_uri": "https://localhost:8080/"
    },
    "id": "xe6LTqHZcuxT",
    "outputId": "787d4dfa-2c9d-4069-d04a-93e08e8f26f7"
   },
   "outputs": [
    {
     "data": {
      "text/plain": [
       "0.5421697"
      ]
     },
     "execution_count": 33,
     "metadata": {},
     "output_type": "execute_result"
    }
   ],
   "source": [
    "model.wv.similarity('harry','dumbledore')"
   ]
  },
  {
   "cell_type": "markdown",
   "metadata": {},
   "source": [
    "Получается, что Гарри ближе к Дамблдору, чем к Волан-де-Морту"
   ]
  },
  {
   "cell_type": "code",
   "execution_count": 19,
   "metadata": {
    "colab": {
     "base_uri": "https://localhost:8080/"
    },
    "id": "xe6LTqHZcuxT",
    "outputId": "787d4dfa-2c9d-4069-d04a-93e08e8f26f7"
   },
   "outputs": [
    {
     "data": {
      "text/plain": [
       "0.0135003505"
      ]
     },
     "execution_count": 19,
     "metadata": {},
     "output_type": "execute_result"
    }
   ],
   "source": [
    "model.wv.similarity('voldemort','kill')"
   ]
  },
  {
   "cell_type": "code",
   "execution_count": 20,
   "metadata": {
    "colab": {
     "base_uri": "https://localhost:8080/"
    },
    "id": "xe6LTqHZcuxT",
    "outputId": "787d4dfa-2c9d-4069-d04a-93e08e8f26f7"
   },
   "outputs": [
    {
     "data": {
      "text/plain": [
       "0.11221216"
      ]
     },
     "execution_count": 20,
     "metadata": {},
     "output_type": "execute_result"
    }
   ],
   "source": [
    "model.wv.similarity('dumbledore','smile')"
   ]
  },
  {
   "cell_type": "code",
   "execution_count": 21,
   "metadata": {
    "colab": {
     "base_uri": "https://localhost:8080/"
    },
    "id": "xe6LTqHZcuxT",
    "outputId": "787d4dfa-2c9d-4069-d04a-93e08e8f26f7"
   },
   "outputs": [
    {
     "data": {
      "text/plain": [
       "0.19491442"
      ]
     },
     "execution_count": 21,
     "metadata": {},
     "output_type": "execute_result"
    }
   ],
   "source": [
    "model.wv.similarity('boy','wizard')"
   ]
  },
  {
   "cell_type": "code",
   "execution_count": 22,
   "metadata": {
    "colab": {
     "base_uri": "https://localhost:8080/"
    },
    "id": "xe6LTqHZcuxT",
    "outputId": "787d4dfa-2c9d-4069-d04a-93e08e8f26f7"
   },
   "outputs": [
    {
     "data": {
      "text/plain": [
       "0.4175283"
      ]
     },
     "execution_count": 22,
     "metadata": {},
     "output_type": "execute_result"
    }
   ],
   "source": [
    "model.wv.similarity('dumbledore','wizard')"
   ]
  },
  {
   "cell_type": "code",
   "execution_count": 23,
   "metadata": {
    "colab": {
     "base_uri": "https://localhost:8080/"
    },
    "id": "uKsvnekCjUGB",
    "outputId": "3a9aee1e-23e3-46f7-d404-42a9c9647ac0"
   },
   "outputs": [
    {
     "data": {
      "text/plain": [
       "0.15797329"
      ]
     },
     "execution_count": 23,
     "metadata": {},
     "output_type": "execute_result"
    }
   ],
   "source": [
    "model.wv.similarity('invisibility', 'cloak') #мантия-невидимка"
   ]
  },
  {
   "cell_type": "code",
   "execution_count": 24,
   "metadata": {
    "colab": {
     "base_uri": "https://localhost:8080/",
     "height": 35
    },
    "id": "muql6TUnjvKA",
    "outputId": "6c0be4fc-2151-4900-9e79-58119ce88c5c"
   },
   "outputs": [
    {
     "data": {
      "text/plain": [
       "'chair'"
      ]
     },
     "execution_count": 24,
     "metadata": {},
     "output_type": "execute_result"
    }
   ],
   "source": [
    "model.wv.doesnt_match(['boy', 'wizard', 'chair'])"
   ]
  },
  {
   "cell_type": "code",
   "execution_count": 25,
   "metadata": {},
   "outputs": [
    {
     "data": {
      "text/plain": [
       "'girl'"
      ]
     },
     "execution_count": 25,
     "metadata": {},
     "output_type": "execute_result"
    }
   ],
   "source": [
    "model.wv.doesnt_match(['cloak', 'wand', 'girl'])"
   ]
  },
  {
   "cell_type": "markdown",
   "metadata": {
    "id": "8yo-qD3Poe8u"
   },
   "source": [
    "<h3>Визуализируем</h3> "
   ]
  },
  {
   "cell_type": "code",
   "execution_count": 26,
   "metadata": {
    "id": "tPKUSN80e0EA"
   },
   "outputs": [],
   "source": [
    "import matplotlib.pyplot as plt\n",
    "plt.style.use('seaborn-v0_8')\n",
    "\n",
    "from sklearn.decomposition import PCA"
   ]
  },
  {
   "cell_type": "code",
   "execution_count": 27,
   "metadata": {
    "id": "-XQnwy42e5ru"
   },
   "outputs": [],
   "source": [
    "def pca_scatterplot(model, words=None, sample=0):\n",
    "  word_vectors = [model.wv[w] for w in words]\n",
    "  vectors_2d = PCA().fit_transform(word_vectors) \n",
    "  plt.figure(figsize=(10,10)) \n",
    "  plt.scatter(vectors_2d[:,0], vectors_2d[:,1], c='g') \n",
    "  for i, word in enumerate(words): \n",
    "    plt.annotate(word, (vectors_2d[i, 0], vectors_2d[i, 1]))"
   ]
  },
  {
   "cell_type": "code",
   "execution_count": 35,
   "metadata": {
    "colab": {
     "base_uri": "https://localhost:8080/",
     "height": 719
    },
    "id": "CkT37h7Ke9jA",
    "outputId": "0dbeea34-1efa-4b6f-95af-2c998b66d1d5"
   },
   "outputs": [
    {
     "data": {
      "image/png": "[encoded data removed]",
      "text/plain": [
       "<Figure size 1000x1000 with 1 Axes>"
      ]
     },
     "metadata": {},
     "output_type": "display_data"
    }
   ],
   "source": [
    "pca_scatterplot(model, ['lord', 'voldemort', 'evil', 'cruel', 'dark', 'kill', 'death',\n",
    "'dumbledore', 'wise', 'gentle', 'kind', 'caring', 'understanding', 'light', 'good'])"
   ]
  },
  {
   "cell_type": "markdown",
   "metadata": {},
   "source": [
    "Гипотеза состояла в том, что прилагательные со значением \"тёмный/злой/проч.\" будут ближе к имени Волан-де-Морта, а противоположные — к имени Дамблдора, однако по какой-то причине это не сработало. Была предпринята попытка сделать то же самое с глаголами (\"убил, напугал, проч.\" VS \"помог, защитил, провёл\"), однако и это не дало ожидаемых результатов. При этом было проведено более детальное рассмотрение текста вручную, и, как показалось, слова вроде \"kill\" действительно чаще стояли в контексте с именем злодея, а слова вроде \"help\" — с именем доброго волшебника. Ниже приведены все слова, с которыми я пробовала поработать.\n",
    "\n",
    "Было выдвинуто предположение о том, что после лемматизации исход может получиться более положительным."
   ]
  },
  {
   "cell_type": "markdown",
   "metadata": {},
   "source": [
    "*'boy', 'lord', 'voldemort', 'evil', 'kind', 'cruel', 'dark', 'light', 'kill', 'death', 'dumbledore' 'muggles', 'muggle', 'magic', 'magical', 'ordinary', 'wizard', 'dumbledore', 'boy'*\n",
    "\n",
    "*'boy', 'harry', 'dumbledore', 'voldemort'*\n",
    "\n",
    "*'hermione', 'mudblood', 'ginger', 'ron', 'boy'*\n",
    "\n",
    "*'lord', 'voldemort', 'evil', 'cruel', 'dark', 'kill', 'death',\n",
    "'wise', 'gentle', 'kind', 'caring', 'understanding', 'light', 'good'*\n",
    "\n",
    "*'angry', 'dark', 'arrogant', 'ambitious', 'sanctimonious', 'selfish', \n",
    "'evil', 'merciless', 'ruthless', 'greedy', 'ignorant', 'callous', 'brutal', 'obsessive', 'paranoid'*\n",
    "\n",
    "*'wizard', 'magic', 'magical'*\n",
    "*'killed', 'scared', 'finish', 'loyal', 'brave', 'smart'*\n",
    "*'killed', 'kill', 'scared', 'finished'*\n",
    "\n",
    "*'smile', 'protect', 'guide', 'help', \n",
    "'eternal', 'powerful', 'weak', 'strong', 'powerless', 'dark', 'white'*"
   ]
  },
  {
   "cell_type": "markdown",
   "metadata": {
    "id": "8yo-qD3Poe8u"
   },
   "source": [
    "<h1>То же самое, но с лемматизацией</h1> "
   ]
  },
  {
   "cell_type": "markdown",
   "metadata": {
    "id": "8yo-qD3Poe8u"
   },
   "source": [
    "<h3>Лемматизируем</h3> "
   ]
  },
  {
   "cell_type": "code",
   "execution_count": 36,
   "metadata": {},
   "outputs": [
    {
     "name": "stdout",
     "output_type": "stream",
     "text": [
      "Наш текст: harry potter and the sorcerers stone chapter one t\n",
      "Леммы: ['harry', 'potter', 'and', 'the', 'sorcerer', 'stone', 'chapter', 'one', 'the', 'boy', 'who', 'live', 'mr', 'and', 'mrs', 'dursley', 'of', 'number', 'four', 'privet', 'drive', 'be', 'proud', 'to', 'say', 'that', 'they', 'be', 'perfectly', 'normal', 'thank', 'you', 'very', 'much', 'they', 'be', 'the', 'last', 'people', 'you', 'd', 'expect', 'to', 'be', 'involve', 'in', 'anything', 'strange', 'or', 'mysterious']\n"
     ]
    }
   ],
   "source": [
    "import spacy\n",
    "#загружаем модель Spacy для английского языка\n",
    "nlp = spacy.load(\"en_core_web_sm\")\n",
    "nlp.max_length = 5894686\n",
    "\n",
    "#образец текста\n",
    "hp = cleaned_hp\n",
    "\n",
    "#обработка текста (создаем объект spacy)\n",
    "doc = nlp(hp)\n",
    "\n",
    "#извлечение лемм\n",
    "lemmatized_hp = [token.lemma_ for token in doc]\n",
    "\n",
    "print(\"Наш текст:\", hp[:50])\n",
    "print(\"Леммы:\", lemmatized_hp[:50])"
   ]
  },
  {
   "cell_type": "markdown",
   "metadata": {
    "id": "8yo-qD3Poe8u"
   },
   "source": [
    "<h3>Удаляем стоп-слова</h3> "
   ]
  },
  {
   "cell_type": "code",
   "execution_count": 37,
   "metadata": {},
   "outputs": [
    {
     "name": "stderr",
     "output_type": "stream",
     "text": [
      "[nltk_data] Downloading package stopwords to /Users/helen/nltk_data...\n",
      "[nltk_data]   Package stopwords is already up-to-date!\n"
     ]
    },
    {
     "name": "stdout",
     "output_type": "stream",
     "text": [
      "Леммы без стоп-слов: ['harry', 'potter', 'sorcerer', 'stone', 'chapter', 'one', 'boy', 'live', 'mr', 'mrs', 'dursley', 'number', 'four', 'privet', 'drive', 'proud', 'say', 'perfectly', 'normal', 'thank', 'much', 'last', 'people', 'expect', 'involve', 'anything', 'strange', 'mysterious', 'hold', 'nonsense', 'mr', 'dursley', 'director', 'firm', 'call', 'grunning', 'make', 'drill', 'big', 'beefy', 'man', 'hardly', 'neck', 'although', 'large', 'mustache', 'mrs', 'dursley', 'thin', 'blonde']\n"
     ]
    }
   ],
   "source": [
    "from nltk.corpus import stopwords\n",
    "nltk.download('stopwords')\n",
    "stop_words = set(stopwords.words('english')) \n",
    "filtered_hp_lemms_dva = [word for word in lemmatized_hp if word.lower() not in stop_words]\n",
    "\n",
    "print(\"Леммы без стоп-слов:\", filtered_hp_lemms_dva[:50])"
   ]
  },
  {
   "cell_type": "markdown",
   "metadata": {
    "id": "8yo-qD3Poe8u"
   },
   "source": [
    "<h1>Обучение и поиск сходств Word2Vec</h1> "
   ]
  },
  {
   "cell_type": "markdown",
   "metadata": {
    "id": "8yo-qD3Poe8u"
   },
   "source": [
    "<h3>Обучение</h3> "
   ]
  },
  {
   "cell_type": "code",
   "execution_count": 38,
   "metadata": {
    "id": "OqaNVtsEaWZP"
   },
   "outputs": [],
   "source": [
    "from gensim.models import Word2Vec\n",
    "\n",
    "model = Word2Vec(sentences=[filtered_hp_lemms_dva], vector_size=100, window=5, min_count=1, workers=4)"
   ]
  },
  {
   "cell_type": "markdown",
   "metadata": {
    "id": "8yo-qD3Poe8u"
   },
   "source": [
    "<h3>Считаем сходство</h3> "
   ]
  },
  {
   "cell_type": "markdown",
   "metadata": {},
   "source": [
    "После лемматизации почти все показатели возросли, что выглядит достаточно правдоподобно."
   ]
  },
  {
   "cell_type": "code",
   "execution_count": 39,
   "metadata": {
    "colab": {
     "base_uri": "https://localhost:8080/"
    },
    "id": "xe6LTqHZcuxT",
    "outputId": "787d4dfa-2c9d-4069-d04a-93e08e8f26f7"
   },
   "outputs": [
    {
     "data": {
      "text/plain": [
       "0.8657971"
      ]
     },
     "execution_count": 39,
     "metadata": {},
     "output_type": "execute_result"
    }
   ],
   "source": [
    "model.wv.similarity('boy','magic')"
   ]
  },
  {
   "cell_type": "code",
   "execution_count": 40,
   "metadata": {
    "colab": {
     "base_uri": "https://localhost:8080/"
    },
    "id": "xe6LTqHZcuxT",
    "outputId": "787d4dfa-2c9d-4069-d04a-93e08e8f26f7"
   },
   "outputs": [
    {
     "data": {
      "text/plain": [
       "0.3555818"
      ]
     },
     "execution_count": 40,
     "metadata": {},
     "output_type": "execute_result"
    }
   ],
   "source": [
    "model.wv.similarity('voldemort','kill')"
   ]
  },
  {
   "cell_type": "code",
   "execution_count": 112,
   "metadata": {
    "colab": {
     "base_uri": "https://localhost:8080/"
    },
    "id": "xe6LTqHZcuxT",
    "outputId": "787d4dfa-2c9d-4069-d04a-93e08e8f26f7"
   },
   "outputs": [
    {
     "data": {
      "text/plain": [
       "0.6721782"
      ]
     },
     "execution_count": 112,
     "metadata": {},
     "output_type": "execute_result"
    }
   ],
   "source": [
    "model.wv.similarity('dumbledore','smile')"
   ]
  },
  {
   "cell_type": "code",
   "execution_count": 114,
   "metadata": {
    "colab": {
     "base_uri": "https://localhost:8080/"
    },
    "id": "xe6LTqHZcuxT",
    "outputId": "787d4dfa-2c9d-4069-d04a-93e08e8f26f7"
   },
   "outputs": [
    {
     "data": {
      "text/plain": [
       "0.88624203"
      ]
     },
     "execution_count": 114,
     "metadata": {},
     "output_type": "execute_result"
    }
   ],
   "source": [
    "model.wv.similarity('boy','wizard')"
   ]
  },
  {
   "cell_type": "code",
   "execution_count": 115,
   "metadata": {
    "colab": {
     "base_uri": "https://localhost:8080/"
    },
    "id": "xe6LTqHZcuxT",
    "outputId": "787d4dfa-2c9d-4069-d04a-93e08e8f26f7"
   },
   "outputs": [
    {
     "data": {
      "text/plain": [
       "0.86579716"
      ]
     },
     "execution_count": 115,
     "metadata": {},
     "output_type": "execute_result"
    }
   ],
   "source": [
    "model.wv.similarity('dumbledore','wizard')"
   ]
  },
  {
   "cell_type": "code",
   "execution_count": 117,
   "metadata": {
    "colab": {
     "base_uri": "https://localhost:8080/",
     "height": 35
    },
    "id": "muql6TUnjvKA",
    "outputId": "6c0be4fc-2151-4900-9e79-58119ce88c5c"
   },
   "outputs": [
    {
     "data": {
      "text/plain": [
       "'chair'"
      ]
     },
     "execution_count": 117,
     "metadata": {},
     "output_type": "execute_result"
    }
   ],
   "source": [
    "model.wv.doesnt_match(['boy', 'wizard', 'chair'])"
   ]
  },
  {
   "cell_type": "code",
   "execution_count": 118,
   "metadata": {},
   "outputs": [
    {
     "data": {
      "text/plain": [
       "'cloak'"
      ]
     },
     "execution_count": 118,
     "metadata": {},
     "output_type": "execute_result"
    }
   ],
   "source": [
    "model.wv.doesnt_match(['cloak', 'wand', 'girl'])"
   ]
  },
  {
   "cell_type": "markdown",
   "metadata": {},
   "source": [
    "Здесь по какой-то причине происходит сбой, не выводится ожидаемый результат (слово  \"girl\" по логике должно быть лишним, но машина считает иначе)."
   ]
  },
  {
   "cell_type": "markdown",
   "metadata": {
    "id": "8yo-qD3Poe8u"
   },
   "source": [
    "<h3>Визуализируем</h3> "
   ]
  },
  {
   "cell_type": "code",
   "execution_count": 41,
   "metadata": {
    "id": "tPKUSN80e0EA"
   },
   "outputs": [],
   "source": [
    "import matplotlib.pyplot as plt\n",
    "plt.style.use('seaborn-v0_8')\n",
    "\n",
    "from sklearn.decomposition import PCA"
   ]
  },
  {
   "cell_type": "code",
   "execution_count": 42,
   "metadata": {
    "id": "-XQnwy42e5ru"
   },
   "outputs": [],
   "source": [
    "def pca_scatterplot(model, words=None, sample=0):\n",
    "  word_vectors = [model.wv[w] for w in words]\n",
    "  vectors_2d = PCA().fit_transform(word_vectors) \n",
    "  plt.figure(figsize=(10,10)) \n",
    "  plt.scatter(vectors_2d[:,0], vectors_2d[:,1], c='g') \n",
    "  for i, word in enumerate(words): \n",
    "    plt.annotate(word, (vectors_2d[i, 0], vectors_2d[i, 1]))"
   ]
  },
  {
   "cell_type": "code",
   "execution_count": 44,
   "metadata": {
    "colab": {
     "base_uri": "https://localhost:8080/",
     "height": 719
    },
    "id": "CkT37h7Ke9jA",
    "outputId": "0dbeea34-1efa-4b6f-95af-2c998b66d1d5"
   },
   "outputs": [
    {
     "data": {
      "image/png": "[encoded data removed]",
      "text/plain": [
       "<Figure size 1000x1000 with 1 Axes>"
      ]
     },
     "metadata": {},
     "output_type": "display_data"
    }
   ],
   "source": [
    "pca_scatterplot(model, ['lord', 'voldemort', 'evil', 'cruel', 'dark', 'kill', 'death',\n",
    "'dumbledore', 'wise', 'gentle', 'kind', 'understanding', 'light', 'good'])"
   ]
  },
  {
   "cell_type": "markdown",
   "metadata": {},
   "source": [
    "К сожалению, после лемматизации гипотеза тоже не подтвердилась (с выбранными выше и другими словами из списка). Возможно, проблема состояла в самой гипотезе или в подобранных словах. С другой стороны, может быть и такое, что код работает не очень совершенно.\n",
    "\n",
    "Однако при этом подсчёт сходств без визуализации выглядит очень хорошо."
   ]
  }
 ],
 "metadata": {
  "colab": {
   "authorship_tag": "ABX9TyOkaFlIp5W+mCefvPJA0Pu5",
   "collapsed_sections": [
    "nO3bXBygoQM5",
    "AUWFvvLHoTgC",
    "DpSEGmgYoWid",
    "8yo-qD3Poe8u",
    "h1bu4sMVooOJ"
   ],
   "include_colab_link": true,
   "provenance": [],
   "toc_visible": true
  },
  "kernelspec": {
   "display_name": "Python 3 (ipykernel)",
   "language": "python",
   "name": "python3"
  },
  "language_info": {
   "codemirror_mode": {
    "name": "ipython",
    "version": 3
   },
   "file_extension": ".py",
   "mimetype": "text/x-python",
   "name": "python",
   "nbconvert_exporter": "python",
   "pygments_lexer": "ipython3",
   "version": "3.9.6"
  }
 },
 "nbformat": 4,
 "nbformat_minor": 4
}
