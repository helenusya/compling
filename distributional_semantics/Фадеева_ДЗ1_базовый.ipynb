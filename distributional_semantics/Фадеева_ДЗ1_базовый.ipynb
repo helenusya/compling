{
 "cells": [
  {
   "cell_type": "markdown",
   "metadata": {},
   "source": [
    "<h1>Уровень 1</h1> "
   ]
  },
  {
   "cell_type": "markdown",
   "metadata": {
    "id": "8yo-qD3Poe8u"
   },
   "source": [
    "<h1>1. Предобработка</h1> "
   ]
  },
  {
   "cell_type": "markdown",
   "metadata": {
    "id": "8yo-qD3Poe8u"
   },
   "source": [
    "<h3>Открываем корпус</h3> "
   ]
  },
  {
   "cell_type": "code",
   "execution_count": 275,
   "metadata": {
    "colab": {
     "base_uri": "https://localhost:8080/"
    },
    "id": "_fgT4hTzMOaw",
    "outputId": "a8a00a70-dd5f-4a42-ede6-1cb972e0f872"
   },
   "outputs": [
    {
     "name": "stdout",
     "output_type": "stream",
     "text": [
      "zsh:1: command not found: wget\n"
     ]
    },
    {
     "name": "stderr",
     "output_type": "stream",
     "text": [
      "Python(6391) MallocStackLogging: can't turn off malloc stack logging because it was not enabled.\n"
     ]
    }
   ],
   "source": [
    "!wget https://raw.githubusercontent.com/karpathy/char-rnn/master/data/tinyshakespeare/input.txt"
   ]
  },
  {
   "cell_type": "code",
   "execution_count": 276,
   "metadata": {
    "colab": {
     "base_uri": "https://localhost:8080/",
     "height": 35
    },
    "id": "gMxeYQ4XYT3Y",
    "outputId": "09508941-a62e-4380-c599-86c36926d552",
    "scrolled": true
   },
   "outputs": [
    {
     "data": {
      "text/plain": [
       "'First Citizen:\\nBefore we proceed any further, hear me speak.\\n\\nAll:\\nSpeak, speak.\\n\\nFirst Citizen:\\nYou'"
      ]
     },
     "execution_count": 276,
     "metadata": {},
     "output_type": "execute_result"
    }
   ],
   "source": [
    "file_path = 'input.txt' #прописываем путь к файлу\n",
    "with open(file_path, 'r') as file: #открываем файл для чтения ('r')\n",
    "    text_content = file.read() #записываем содержимое файла в переменную\n",
    "    \n",
    "text_content[:100] #выводим первые 100 символов"
   ]
  },
  {
   "cell_type": "markdown",
   "metadata": {
    "id": "8yo-qD3Poe8u"
   },
   "source": [
    "<h3>Чистим текст</h3> "
   ]
  },
  {
   "cell_type": "code",
   "execution_count": 277,
   "metadata": {
    "colab": {
     "base_uri": "https://localhost:8080/",
     "height": 35
    },
    "id": "p7JA0zb8Yx4n",
    "outputId": "10ec91ac-202c-442b-8371-43f670dcfa0c"
   },
   "outputs": [
    {
     "data": {
      "text/plain": [
       "'first citizen before we proceed any further hear me speak all speak speak first citizen you are all '"
      ]
     },
     "execution_count": 277,
     "metadata": {},
     "output_type": "execute_result"
    }
   ],
   "source": [
    "import re\n",
    "\n",
    "def clean_text(text):\n",
    "    text = text.lower() #приводим текст к нижнему регистру\n",
    "    text = re.sub(r'[^a-z\\s]', '', text) #удаляем все символы, кроме букв\n",
    "    text = re.sub(r'\\s+', ' ', text).strip() #удаляем двойные пробелы\n",
    "    return text\n",
    "cleaned_text = clean_text(text_content)\n",
    "\n",
    "cleaned_text[:100] #выводим первые 100 символов"
   ]
  },
  {
   "cell_type": "markdown",
   "metadata": {
    "id": "8yo-qD3Poe8u"
   },
   "source": [
    "<h3>Токенизируем корпус</h3> "
   ]
  },
  {
   "cell_type": "code",
   "execution_count": 278,
   "metadata": {
    "colab": {
     "base_uri": "https://localhost:8080/"
    },
    "id": "l9FpkVl3Z9yU",
    "outputId": "65a900ab-1bcf-4abe-ca6c-16a32920e9ea"
   },
   "outputs": [
    {
     "name": "stderr",
     "output_type": "stream",
     "text": [
      "[nltk_data] Downloading package punkt to /Users/helen/nltk_data...\n",
      "[nltk_data]   Package punkt is already up-to-date!\n"
     ]
    },
    {
     "data": {
      "text/plain": [
       "202810"
      ]
     },
     "execution_count": 278,
     "metadata": {},
     "output_type": "execute_result"
    }
   ],
   "source": [
    "import nltk\n",
    "from nltk.tokenize import word_tokenize\n",
    "nltk.download('punkt')\n",
    "tokens = word_tokenize(cleaned_text) #токенизация по словам\n",
    "\n",
    "tokens[:10]\n",
    "len(tokens)"
   ]
  },
  {
   "cell_type": "markdown",
   "metadata": {
    "id": "8yo-qD3Poe8u"
   },
   "source": [
    "<h3>Удаляем стоп-слова</h3> "
   ]
  },
  {
   "cell_type": "code",
   "execution_count": 279,
   "metadata": {},
   "outputs": [
    {
     "name": "stderr",
     "output_type": "stream",
     "text": [
      "[nltk_data] Downloading package stopwords to /Users/helen/nltk_data...\n",
      "[nltk_data]   Package stopwords is already up-to-date!\n"
     ]
    },
    {
     "name": "stdout",
     "output_type": "stream",
     "text": [
      "Токены без стоп-слов: ['first', 'citizen', 'proceed', 'hear', 'speak', 'speak', 'speak', 'first', 'citizen', 'resolved', 'rather', 'die', 'famish', 'resolved', 'resolved', 'first', 'citizen', 'first', 'know', 'caius', 'marcius', 'chief', 'enemy', 'people', 'knowt', 'knowt', 'first', 'citizen', 'let', 'us', 'kill', 'well', 'corn', 'price', 'ist', 'verdict', 'talking', 'ont', 'let', 'done', 'away', 'away', 'second', 'citizen', 'one', 'word', 'good', 'citizens', 'first', 'citizen']\n"
     ]
    },
    {
     "data": {
      "text/plain": [
       "107157"
      ]
     },
     "execution_count": 279,
     "metadata": {},
     "output_type": "execute_result"
    }
   ],
   "source": [
    "from nltk.corpus import stopwords\n",
    "nltk.download('stopwords')\n",
    "stop_words = set(stopwords.words('english')) #загружаем стоп-слова\n",
    "filtered_tokens = [word for word in tokens if word.lower() not in stop_words] #удаляем стоп-слова\n",
    "\n",
    "print(\"Токены без стоп-слов:\", filtered_tokens[:50])\n",
    "len(filtered_tokens) #кол-во слов в корпусе после чистки"
   ]
  },
  {
   "cell_type": "markdown",
   "metadata": {
    "id": "8yo-qD3Poe8u"
   },
   "source": [
    "<h1>2. Обучение и поиск сходств Word2Vec</h1> "
   ]
  },
  {
   "cell_type": "markdown",
   "metadata": {
    "id": "8yo-qD3Poe8u"
   },
   "source": [
    "<h3>Обучение</h3> "
   ]
  },
  {
   "cell_type": "code",
   "execution_count": 284,
   "metadata": {
    "id": "OqaNVtsEaWZP"
   },
   "outputs": [],
   "source": [
    "from gensim.models import Word2Vec\n",
    "\n",
    "model = Word2Vec(sentences=[filtered_tokens], vector_size=100, window=5, min_count=1, workers=4) #задаем параметры нашей модели"
   ]
  },
  {
   "cell_type": "code",
   "execution_count": 285,
   "metadata": {
    "colab": {
     "base_uri": "https://localhost:8080/"
    },
    "id": "xe6LTqHZcuxT",
    "outputId": "787d4dfa-2c9d-4069-d04a-93e08e8f26f7"
   },
   "outputs": [
    {
     "data": {
      "text/plain": [
       "array([ 9.3145944e-05,  3.1112744e-03, -6.7663677e-03, -1.3235710e-03,\n",
       "        7.7920300e-03,  7.1407780e-03, -3.5348057e-03,  2.7354809e-03,\n",
       "       -8.4440298e-03,  6.1859712e-03, -4.6623680e-03, -3.3372582e-03,\n",
       "        9.1934754e-03,  8.8475487e-04,  7.5921416e-03, -6.2295008e-03,\n",
       "        5.1741037e-03,  9.7883046e-03, -8.5034324e-03, -5.2907323e-03,\n",
       "       -6.9990945e-03, -4.7875969e-03, -3.6863915e-03, -8.5909516e-03,\n",
       "        7.8024808e-03, -4.8888149e-03,  8.3964830e-03,  5.1851803e-03,\n",
       "       -6.6043390e-03,  3.8205017e-03,  5.6213746e-03, -7.4163340e-03,\n",
       "       -7.3872157e-03, -2.5352181e-03, -8.5831629e-03, -1.4452643e-03,\n",
       "       -2.8707134e-04,  3.3098783e-03,  1.3657493e-03, -9.9832762e-04,\n",
       "       -5.5922349e-03,  1.5047805e-03, -1.0559289e-03,  6.8209413e-03,\n",
       "        4.0603448e-03,  4.5962986e-03,  1.3078121e-03, -2.6980136e-03,\n",
       "       -4.2355629e-03, -9.2618784e-04,  1.4751214e-03, -2.7258794e-03,\n",
       "       -7.0957462e-03, -7.9152538e-03, -9.2687905e-03, -5.7968101e-03,\n",
       "       -1.7566669e-03, -4.3654046e-03, -6.4202063e-03, -3.7537322e-03,\n",
       "        4.2990115e-03, -3.6311138e-03,  8.2645621e-03,  1.4718276e-03,\n",
       "       -7.3638414e-03,  9.5563848e-03,  7.6214904e-03,  5.5422247e-03,\n",
       "       -6.9901333e-03,  5.8426126e-03,  3.9212331e-03,  5.2791182e-03,\n",
       "        4.3297568e-03,  1.8846828e-03, -3.0962988e-03,  8.4090689e-03,\n",
       "        9.5923059e-03,  3.8489203e-03, -2.9327904e-03,  5.2097843e-05,\n",
       "        1.0809380e-03, -8.5332897e-03, -8.3774701e-03, -4.4156586e-05,\n",
       "        1.2953487e-03, -5.6764591e-03, -4.7305222e-03, -7.3359646e-03,\n",
       "        8.4902374e-03,  3.0778075e-04, -4.4088522e-03,  5.7269591e-03,\n",
       "        9.2090210e-03, -4.1121715e-03,  8.2596848e-03,  5.4223035e-03,\n",
       "        5.8854995e-03,  5.0699979e-04,  8.0992598e-03, -6.9770743e-03],\n",
       "      dtype=float32)"
      ]
     },
     "execution_count": 285,
     "metadata": {},
     "output_type": "execute_result"
    }
   ],
   "source": [
    "model.wv['king'] #выведем результат обучения модели (с семинара)"
   ]
  },
  {
   "cell_type": "markdown",
   "metadata": {
    "id": "8yo-qD3Poe8u"
   },
   "source": [
    "<h3>Считаем сходство</h3> "
   ]
  },
  {
   "cell_type": "markdown",
   "metadata": {
    "id": "8yo-qD3Poe8u"
   },
   "source": [
    "<h4>С семинара</h4>"
   ]
  },
  {
   "cell_type": "code",
   "execution_count": 286,
   "metadata": {
    "colab": {
     "base_uri": "https://localhost:8080/"
    },
    "id": "uKsvnekCjUGB",
    "outputId": "3a9aee1e-23e3-46f7-d404-42a9c9647ac0"
   },
   "outputs": [
    {
     "data": {
      "text/plain": [
       "-0.036845148"
      ]
     },
     "execution_count": 286,
     "metadata": {},
     "output_type": "execute_result"
    }
   ],
   "source": [
    "model.wv.similarity('king', 'queen')"
   ]
  },
  {
   "cell_type": "markdown",
   "metadata": {
    "id": "zeuomOGcprBg"
   },
   "source": [
    "Показатель несколько снизился по сравнению с не очищенным от стоп-слов корпусом с семинара (-0.029)"
   ]
  },
  {
   "cell_type": "code",
   "execution_count": 287,
   "metadata": {
    "colab": {
     "base_uri": "https://localhost:8080/"
    },
    "id": "icXoXXLWjXcU",
    "outputId": "bc1f7d85-3a06-4e59-84a6-0cfaca267364"
   },
   "outputs": [
    {
     "data": {
      "text/plain": [
       "0.10492411"
      ]
     },
     "execution_count": 287,
     "metadata": {},
     "output_type": "execute_result"
    }
   ],
   "source": [
    "model.wv.similarity('king', 'prince')"
   ]
  },
  {
   "cell_type": "markdown",
   "metadata": {
    "id": "zeuomOGcprBg"
   },
   "source": [
    "Здесь, наоборот, показатель вырос (по сравнению с 0.027)"
   ]
  },
  {
   "cell_type": "code",
   "execution_count": 288,
   "metadata": {
    "colab": {
     "base_uri": "https://localhost:8080/",
     "height": 35
    },
    "id": "muql6TUnjvKA",
    "outputId": "6c0be4fc-2151-4900-9e79-58119ce88c5c"
   },
   "outputs": [
    {
     "data": {
      "text/plain": [
       "'queen'"
      ]
     },
     "execution_count": 288,
     "metadata": {},
     "output_type": "execute_result"
    }
   ],
   "source": [
    "model.wv.doesnt_match(['king', 'prince', 'queen'])"
   ]
  },
  {
   "cell_type": "markdown",
   "metadata": {
    "id": "zeuomOGcprBg"
   },
   "source": [
    "Результат не изменился"
   ]
  },
  {
   "cell_type": "markdown",
   "metadata": {
    "id": "8yo-qD3Poe8u"
   },
   "source": [
    "<h4>Другие слова</h4>"
   ]
  },
  {
   "cell_type": "code",
   "execution_count": 289,
   "metadata": {
    "colab": {
     "base_uri": "https://localhost:8080/"
    },
    "id": "xe6LTqHZcuxT",
    "outputId": "787d4dfa-2c9d-4069-d04a-93e08e8f26f7"
   },
   "outputs": [
    {
     "data": {
      "text/plain": [
       "0.33124733"
      ]
     },
     "execution_count": 289,
     "metadata": {},
     "output_type": "execute_result"
    }
   ],
   "source": [
    "model.wv.similarity('love','hate')"
   ]
  },
  {
   "cell_type": "code",
   "execution_count": 290,
   "metadata": {},
   "outputs": [
    {
     "data": {
      "text/plain": [
       "0.6062044"
      ]
     },
     "execution_count": 290,
     "metadata": {},
     "output_type": "execute_result"
    }
   ],
   "source": [
    "model.wv.similarity('love','like')"
   ]
  },
  {
   "cell_type": "code",
   "execution_count": 291,
   "metadata": {},
   "outputs": [
    {
     "data": {
      "text/plain": [
       "0.054480758"
      ]
     },
     "execution_count": 291,
     "metadata": {},
     "output_type": "execute_result"
    }
   ],
   "source": [
    "model.wv.similarity('woman','man')"
   ]
  },
  {
   "cell_type": "code",
   "execution_count": 292,
   "metadata": {
    "colab": {
     "base_uri": "https://localhost:8080/"
    },
    "id": "NUZfHvbPiKyr",
    "outputId": "e70b0c9b-505c-4f09-8f3d-486f2228e6c7"
   },
   "outputs": [
    {
     "data": {
      "text/plain": [
       "[('telling', 0.4255729019641876),\n",
       " ('pluckd', 0.36614373326301575),\n",
       " ('suffered', 0.3549497425556183),\n",
       " ('monster', 0.34580662846565247),\n",
       " ('navy', 0.3414638638496399),\n",
       " ('apollos', 0.33628857135772705),\n",
       " ('wast', 0.3348628878593445),\n",
       " ('antique', 0.33073899149894714),\n",
       " ('runs', 0.3258797526359558),\n",
       " ('external', 0.32358530163764954)]"
      ]
     },
     "execution_count": 292,
     "metadata": {},
     "output_type": "execute_result"
    }
   ],
   "source": [
    "model.wv.most_similar([\"prince\"])"
   ]
  },
  {
   "cell_type": "markdown",
   "metadata": {
    "id": "8yo-qD3Poe8u"
   },
   "source": [
    "<h3>Визуализируем</h3> "
   ]
  },
  {
   "cell_type": "code",
   "execution_count": 293,
   "metadata": {
    "id": "tPKUSN80e0EA"
   },
   "outputs": [],
   "source": [
    "import matplotlib.pyplot as plt\n",
    "plt.style.use('seaborn-v0_8')\n",
    "\n",
    "from sklearn.decomposition import PCA"
   ]
  },
  {
   "cell_type": "code",
   "execution_count": 294,
   "metadata": {
    "id": "-XQnwy42e5ru"
   },
   "outputs": [],
   "source": [
    "def pca_scatterplot(model, words=None, sample=0):\n",
    "  word_vectors = [model.wv[w] for w in words]\n",
    "  vectors_2d = PCA().fit_transform(word_vectors) #сократить размерность векторов до 2D\n",
    "  plt.figure(figsize=(10,10)) #отрисовка изображения, размер 10 на 10\n",
    "  plt.scatter(vectors_2d[:,0], vectors_2d[:,1], c='g') #задаем цвет точек и ссылаемся на данные по осям x (0) и y (1)\n",
    "  for i, word in enumerate(words): #добавляем подписи к данным, проходимся по списку слов\n",
    "    plt.annotate(word, (vectors_2d[i, 0], vectors_2d[i, 1])) #соотносим слово с его двухмерным вектором"
   ]
  },
  {
   "cell_type": "markdown",
   "metadata": {
    "id": "zeuomOGcprBg"
   },
   "source": [
    "Пытаемся посмотреть, какие эпитеты используются по отношению к королям и королевам (по образцу с семинара, но с примененной очисткой от стоп-слов)."
   ]
  },
  {
   "cell_type": "code",
   "execution_count": 295,
   "metadata": {
    "colab": {
     "base_uri": "https://localhost:8080/",
     "height": 719
    },
    "id": "CkT37h7Ke9jA",
    "outputId": "0dbeea34-1efa-4b6f-95af-2c998b66d1d5"
   },
   "outputs": [
    {
     "data": {
      "image/png": "[encoded data removed]",
      "text/plain": [
       "<Figure size 1000x1000 with 1 Axes>"
      ]
     },
     "metadata": {},
     "output_type": "display_data"
    }
   ],
   "source": [
    "pca_scatterplot(model, ['smart', 'handsome', 'beautiful', 'kind', 'gentle', 'old', 'young',\n",
    "                                'prince', 'princess', 'lady', 'king', 'queen', 'lord'])"
   ]
  },
  {
   "cell_type": "markdown",
   "metadata": {
    "id": "zeuomOGcprBg"
   },
   "source": [
    "Получается, что после чистки стоп-слов результат некоторым образом изменился. Удивило, во-первых, то, что слово \"prince\" больше не соседствует со словами \"smart\" и \"handsome\". Также неожиданным показалось соседнее расположение слов \"king\" и \"gentle\". "
   ]
  },
  {
   "cell_type": "markdown",
   "metadata": {
    "id": "8yo-qD3Poe8u"
   },
   "source": [
    "<h4>Другие слова</h4>"
   ]
  },
  {
   "cell_type": "markdown",
   "metadata": {
    "id": "zeuomOGcprBg"
   },
   "source": [
    "Теперь попытаемся посмотреть, какие эпитеты используются по отношению к женщинам и мужчинам.\n",
    "Гипотеза состоит в том, что слова вроде \"beautiful\", \"young\", pretty\" и проч. (во 2-ой строчке) будут ближе к наименованию женщин, а прилагательные вроде \"brave\", \"smart\" и проч. (в 1 строчке) будут ближе к наименованию мужчин. "
   ]
  },
  {
   "cell_type": "code",
   "execution_count": 296,
   "metadata": {
    "colab": {
     "base_uri": "https://localhost:8080/",
     "height": 719
    },
    "id": "CkT37h7Ke9jA",
    "outputId": "0dbeea34-1efa-4b6f-95af-2c998b66d1d5"
   },
   "outputs": [
    {
     "data": {
      "image/png": "[encoded data removed]",
      "text/plain": [
       "<Figure size 1000x1000 with 1 Axes>"
      ]
     },
     "metadata": {},
     "output_type": "display_data"
    }
   ],
   "source": [
    "pca_scatterplot(model, ['old', 'brave', 'strong', 'smart', 'cold', 'proud', 'fearless', 'lonely',\n",
    "                        'beautiful', 'pretty', 'young', 'tender', 'kind', 'gentle', 'bright', 'mad', 'wise',\n",
    "                        'woman', 'man', 'women', 'men', 'madam', 'sir'])"
   ]
  },
  {
   "cell_type": "markdown",
   "metadata": {
    "id": "zeuomOGcprBg"
   },
   "source": [
    "Довольно показательным кажется фрагмент визуализации, в котором довольно рядом стоят слова \"woman\" и \"bright, beautiful, pretty, mad\". То же самое касается слов \"women\" и \"tender\".\n",
    "Также относительно близко расположены слова \"madam\" и \"kind\".\n",
    "\n",
    "К сожалению, какой-либо тенденции с наименованиями, относящимися к мужчинам, обнаружить не вышло: кажется, будто слова \"sir, man, men\" стоят довольно обособленно от всех выделенных эпитетов. Интересно разве что соседство слов \"men\" и \"old\"."
   ]
  }
 ],
 "metadata": {
  "colab": {
   "authorship_tag": "ABX9TyOkaFlIp5W+mCefvPJA0Pu5",
   "collapsed_sections": [
    "nO3bXBygoQM5",
    "AUWFvvLHoTgC",
    "DpSEGmgYoWid",
    "8yo-qD3Poe8u",
    "h1bu4sMVooOJ"
   ],
   "include_colab_link": true,
   "provenance": [],
   "toc_visible": true
  },
  "kernelspec": {
   "display_name": "Python 3 (ipykernel)",
   "language": "python",
   "name": "python3"
  },
  "language_info": {
   "codemirror_mode": {
    "name": "ipython",
    "version": 3
   },
   "file_extension": ".py",
   "mimetype": "text/x-python",
   "name": "python",
   "nbconvert_exporter": "python",
   "pygments_lexer": "ipython3",
   "version": "3.9.6"
  }
 },
 "nbformat": 4,
 "nbformat_minor": 4
}
