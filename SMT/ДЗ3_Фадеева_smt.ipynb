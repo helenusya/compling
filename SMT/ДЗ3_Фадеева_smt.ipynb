{
 "cells": [
  {
   "cell_type": "markdown",
   "id": "05b79a8e-5233-4469-9e05-dc11a23a2864",
   "metadata": {},
   "source": [
    "## Загрузка библиотек"
   ]
  },
  {
   "cell_type": "code",
   "execution_count": 1,
   "id": "6ac0ec00-0654-4c47-9b14-a092bfab3ebb",
   "metadata": {},
   "outputs": [],
   "source": [
    "import tarfile\n",
    "import re\n",
    "\n",
    "from sklearn.model_selection import train_test_split\n",
    "\n",
    "from collections import Counter, defaultdict\n",
    "import random"
   ]
  },
  {
   "cell_type": "markdown",
   "id": "ac452467-37df-4c77-9c10-720c92850cc3",
   "metadata": {},
   "source": [
    "## 1: Препроцессинг"
   ]
  },
  {
   "cell_type": "markdown",
   "id": "2797be57-d07b-4624-b1a3-5065734f6bbc",
   "metadata": {},
   "source": [
    "Загружаем датасет [French-English, 292 short sentences](https://www.cis.lmu.de/~fraser/EMA2008/model1.html)\n",
    "(для этого надо нажать на \"German-English, 292 short sentences\", т.к. на сайте перепутаны ссылки на скачивание)"
   ]
  },
  {
   "cell_type": "code",
   "execution_count": 78,
   "id": "f3405d73-236d-4eb5-ac9d-e4141f6d3113",
   "metadata": {},
   "outputs": [],
   "source": [
    "#извлекаем файлы из архива\n",
    "with tarfile.open('fr-en.tiny.tgz', 'r:gz') as tar:\n",
    "  tar.extractall()"
   ]
  },
  {
   "cell_type": "markdown",
   "id": "ef03020c-d0f1-489e-a0f5-12c811463490",
   "metadata": {},
   "source": [
    "Вызовем команду shell `ls`, чтобы увидеть, что мы распаковали."
   ]
  },
  {
   "cell_type": "code",
   "execution_count": 79,
   "id": "635cefa3-e6fe-48e7-bb3b-6acc6f24441e",
   "metadata": {},
   "outputs": [
    {
     "name": "stdout",
     "output_type": "stream",
     "text": [
      "fr-en.tiny.en                  fr-en.tiny.tgz\n",
      "fr-en.tiny.fr                  ДЗ3_Фадеева_smt.ipynb\n"
     ]
    }
   ],
   "source": [
    "!ls"
   ]
  },
  {
   "cell_type": "markdown",
   "id": "cdf5901e-544b-464e-a9bd-f8431e0f31c9",
   "metadata": {},
   "source": [
    "Создаем 2 выборки и токенизируем тексты по фразам."
   ]
  },
  {
   "cell_type": "code",
   "execution_count": 80,
   "id": "ec264e30-07cd-4b97-91ca-4ff6b6587dad",
   "metadata": {},
   "outputs": [
    {
     "name": "stdout",
     "output_type": "stream",
     "text": [
      "Данные языка X:\n",
      " ['resumption of the session', 'please rise  then  for this minute  s silence ', ' the house rose and observed a minute  s silence ', 'madam president  on a point of order ', 'if the house agrees  i shall do as mr evans has suggested ', 'madam president  on a point of order ', 'i would like your advice about rule  concerning inadmissibility ']\n",
      "Данные языка Y:\n",
      " ['reprise de la session', 'je vous invite à vous lever pour cette minute de silence ', ' le parlement  debout  observe une minute de silence ', 'madame la présidente  c est une motion de procédure ', 'si l assemblée en est d accord  je ferai comme m evans l a suggéré ', 'madame la présidente  c est une motion de procédure ', 'je voudrais vous demander un conseil au sujet de l article   qui concerne l irrecevabilité ']\n"
     ]
    }
   ],
   "source": [
    "with open('fr-en.tiny.en', 'r') as f:\n",
    "  english = f.read().split('\\n')[:-1]\n",
    "\n",
    "with open('fr-en.tiny.fr', 'r') as f:\n",
    "  french = f.read().split('\\n')[:-1]\n",
    "\n",
    "def cleaning_(lang):\n",
    "    #топорный метод, но в \"белый лист\" добавляем только буквы\n",
    "    whitelist = set('abcdefghijklmnopqrstuvwxyz ABCDEFGHIJKLMNOPQRSTUVWXYZabcdefghijklmnopqrstuvwxyzABCDEFGHIJKLMNOPQRSTUVWXYZàâäçèéêëîïôœùûüÿÀÂÄÇÈÉÊËÎÏÔŒÙÛÜŸ')\n",
    "    result_list = []\n",
    "    for sentence in lang:\n",
    "        #приводим всё к нижнему регистру, оставляем только буквы из \"белого листа\"\n",
    "        result_list.append((''.join(filter(whitelist.__contains__, sentence))).lower())\n",
    "    return result_list\n",
    "\n",
    "english = cleaning_(english)\n",
    "french = cleaning_(french)\n",
    "\n",
    "print(\"Данные языка X:\\n\", english[:7]) #выведем 7 предложений\n",
    "print(\"Данные языка Y:\\n\", french[:7])"
   ]
  },
  {
   "cell_type": "markdown",
   "id": "43d555e7-9f2a-48c2-a013-c17fd30200f2",
   "metadata": {},
   "source": [
    "Разделим нашу выборку с помощью sklearn."
   ]
  },
  {
   "cell_type": "code",
   "execution_count": 81,
   "id": "e82b8c7d-7408-4351-b7da-9d6ba0339e42",
   "metadata": {},
   "outputs": [
    {
     "name": "stdout",
     "output_type": "stream",
     "text": [
      "> Обучающая выборка:\n",
      "\n",
      "Текст на французском: je suis d accord avec votre analyse \n",
      " Его перевод на английский: i agree with your analysis \n",
      "\n",
      "\n",
      "Текст на французском: je voudrais vous demander un conseil au sujet de l article   qui concerne l irrecevabilité \n",
      " Его перевод на английский: i would like your advice about rule  concerning inadmissibility \n",
      "\n",
      "\n",
      "Текст на французском: mon groupe soutiendra d ailleurs toute initiative visant à améliorer la sécurité des transports \n",
      " Его перевод на английский: when it comes to safety my group will always support any initiatives to improve transport safety \n",
      "\n",
      "> Тестовая выборка:\n",
      "\n",
      "Текст на французском: la plupart des propositions d  amendement sont de nature purement technique \n",
      " Его перевод на английский: most of the proposed amendments are of a purely technical nature \n",
      "\n",
      "\n",
      "Текст на французском: les subventions ne suffisent pas pour faire du développement  quand font défaut les infrastructures ou les services publics \n",
      " Его перевод на английский: subsidies are not enough to ensure development when infrastructure and public services are lacking \n",
      "\n",
      "\n",
      "Текст на французском: ce point est d une extrême importance \n",
      " Его перевод на английский: this latter point is of particular importance \n",
      "\n"
     ]
    }
   ],
   "source": [
    "X_train, X_test, y_train, y_test = train_test_split(english, french)\n",
    "\n",
    "cn = 0\n",
    "print(\"> Обучающая выборка:\")\n",
    "for text, label in zip(X_train, y_train):\n",
    "    print(f\"\\nТекст на французском: {label}\\n Его перевод на английский: {text}\\n\")\n",
    "    cn+=1\n",
    "    if cn==3:\n",
    "        break #чтобы выводились не все предложения, а только часть\n",
    "\n",
    "cn = 0\n",
    "print(\"> Тестовая выборка:\")\n",
    "for text, label in zip(X_test, y_test):\n",
    "    print(f\"\\nТекст на французском: {label}\\n Его перевод на английский: {text}\\n\")\n",
    "    cn+=1\n",
    "    if cn==3:\n",
    "        break"
   ]
  },
  {
   "cell_type": "markdown",
   "id": "7d4a0fc7-e262-43ba-92dc-1c49650ce32c",
   "metadata": {},
   "source": [
    "### Подготовка данных"
   ]
  },
  {
   "cell_type": "markdown",
   "id": "b282ca7c-c4de-4561-b7e7-ec7b5cc843be",
   "metadata": {},
   "source": [
    "Проведем пословную токенизацию каждой фразы."
   ]
  },
  {
   "cell_type": "code",
   "execution_count": 82,
   "id": "defe0f84-13fa-4e14-b929-296ba2a7bbde",
   "metadata": {},
   "outputs": [
    {
     "name": "stdout",
     "output_type": "stream",
     "text": [
      "Образец токенизированного текста: [['i', 'agree', 'with', 'your', 'analysis'], ['i', 'would', 'like', 'your', 'advice', 'about', 'rule', 'concerning', 'inadmissibility'], ['when', 'it', 'comes', 'to', 'safety', 'my', 'group', 'will', 'always', 'support', 'any', 'initiatives', 'to', 'improve', 'transport', 'safety'], ['the', 'market', 'favours', 'the', 'short', 'term', 'and', 'immediate', 'profits'], ['our', 'group', 'is', 'in', 'favour', 'of', 'adopting', 'this', 'report'], ['the', 'report', 'put', 'forward', 'today', 'reestablishes', 'its', 'place', 'in', 'the', 'political', 'sphere'], ['mr', 'wynn', 'that', 'makes', 'sense'], ['they', 'are', 'supported', 'by', 'appropriate', 'european', 'union', 'structural', 'fund', 'activities'], ['the', 'european', 'commission', 's', 'sixth', 'report', 'presents', 'very', 'valuable', 'conclusions'], ['this', 'report', 'is', 'very', 'good', 'and', 'our', 'group', 'supports', 'it']]\n"
     ]
    }
   ],
   "source": [
    "def tokenize(sentences):\n",
    "  #функция возвращает списки слов\n",
    "  return [sentence.split() for sentence in sentences]\n",
    "\n",
    "X_train_tokens, X_test_tokens, y_train_tokens, y_test_tokens = tokenize(X_train), tokenize(X_test), tokenize(y_train), tokenize(y_test)\n",
    "\n",
    "print('Образец токенизированного текста:', X_train_tokens[:10])"
   ]
  },
  {
   "cell_type": "markdown",
   "id": "47b3f789-35ee-48f2-a380-d93c2d5db3f0",
   "metadata": {},
   "source": [
    "Создадим словарь уникальных словоформ."
   ]
  },
  {
   "cell_type": "code",
   "execution_count": 83,
   "id": "18732e95-ae45-4b00-9980-c8476a0b87a8",
   "metadata": {},
   "outputs": [
    {
     "name": "stdout",
     "output_type": "stream",
     "text": [
      "Словарь французских словоформ: ['reprise', 'de', 'la', 'session', 'je', 'vous', 'invite', 'à', 'lever', 'pour', 'cette', 'minute', 'silence', 'le', 'parlement', 'debout', 'observe', 'une', 'madame', 'présidente', 'c', 'est', 'motion', 'procédure', 'si', 'l', 'assemblée', 'en', 'd', 'accord', 'ferai', 'comme', 'm', 'evans', 'a', 'suggéré', 'voudrais', 'demander', 'un', 'conseil', 'au', 'sujet', 'article', 'qui', 'concerne', 'irrecevabilité', 'il', 'précise', 'que', 'cela']...\n",
      " Всего 1081 словоформ\n",
      "\n",
      "Cловарь английских словоформ: ['resumption', 'of', 'the', 'session', 'please', 'rise', 'then', 'for', 'this', 'minute', 's', 'silence', 'house', 'rose', 'and', 'observed', 'a', 'madam', 'president', 'on', 'point', 'order', 'if', 'agrees', 'i', 'shall', 'do', 'as', 'mr', 'evans', 'has', 'suggested', 'would', 'like', 'your', 'advice', 'about', 'rule', 'concerning', 'inadmissibility', 'it', 'says', 'that', 'should', 'be', 'done', 'despite', 'principle', 'relative', 'stability']...\n",
      " Всего 978 словоформ\n"
     ]
    }
   ],
   "source": [
    "x_vocab = Counter(' '.join(french).split()).keys()\n",
    "y_vocab = Counter(' '.join(english).split()).keys()\n",
    "\n",
    "print(f\"Словарь французских словоформ: {list(x_vocab)[:50]}...\\n Всего {len(x_vocab)} словоформ\")\n",
    "print(f\"\\nCловарь английских словоформ: {list(y_vocab)[:50]}...\\n Всего {len(y_vocab)} словоформ\")"
   ]
  },
  {
   "cell_type": "markdown",
   "id": "fd4cad4d-ce9b-47af-a3f0-976651916f6b",
   "metadata": {},
   "source": [
    "## 2: Модель SMT"
   ]
  },
  {
   "cell_type": "markdown",
   "id": "af03d2ff-e305-477c-b3c0-f491b4d9cff7",
   "metadata": {},
   "source": [
    "### IBM 1 Expectation-Maximization (t-model)"
   ]
  },
  {
   "cell_type": "code",
   "execution_count": 84,
   "id": "a4728e2c-94ab-411b-8228-cc428cb9431e",
   "metadata": {},
   "outputs": [
    {
     "data": {
      "text/plain": [
       "'0.0000009459'"
      ]
     },
     "execution_count": 84,
     "metadata": {},
     "output_type": "execute_result"
    }
   ],
   "source": [
    "#вероятность того, что случайное слово x_vocab соответсвует случайному слову y_vocab\n",
    "uniform = 1 / (len(x_vocab) * len(y_vocab))\n",
    "\n",
    "f'{uniform:.10f}'"
   ]
  },
  {
   "cell_type": "code",
   "execution_count": 85,
   "id": "0986cc4a-3f3c-42ea-badf-31dd75b227f2",
   "metadata": {},
   "outputs": [
    {
     "name": "stdout",
     "output_type": "stream",
     "text": [
      "T-table\n",
      "Соответствие | i   ->   je | Вероятность: 0.0\n",
      "Соответствие | i   ->   suis | Вероятность: 0.0\n",
      "Соответствие | i   ->   d | Вероятность: 0.0\n",
      "Соответствие | i   ->   accord | Вероятность: 0.0\n",
      "Соответствие | i   ->   avec | Вероятность: 0.0\n",
      "Соответствие | i   ->   votre | Вероятность: 0.0\n",
      "Соответствие | i   ->   analyse | Вероятность: 0.0\n",
      "Соответствие | agree   ->   je | Вероятность: 0.0\n",
      "Соответствие | agree   ->   suis | Вероятность: 0.0\n",
      "Соответствие | agree   ->   d | Вероятность: 0.0\n"
     ]
    }
   ],
   "source": [
    "#t-model\n",
    "t = {}\n",
    "\n",
    "for i in range(len(X_train)):\n",
    "  #начинаем итерацию по обучающей выборке\n",
    "  for word_x in X_train_tokens[i]:\n",
    "    for word_y in y_train_tokens[i]:\n",
    "      #создаем t-table\n",
    "      t[(word_x, word_y)] = uniform\n",
    "\n",
    "#t-table\n",
    "cn = 0\n",
    "print (\"T-table\")\n",
    "for elem in t:\n",
    "  print(\"Соответствие |\", elem[0], \"  ->  \", elem[1], \"| Вероятность:\", round(t[elem], 3))\n",
    "  cn+=1\n",
    "  if cn==10:\n",
    "    break #чтобы вывести не всё-всё, а только часть"
   ]
  },
  {
   "cell_type": "code",
   "execution_count": 138,
   "id": "d079e13c-75f2-449c-8380-52d819bda155",
   "metadata": {},
   "outputs": [],
   "source": [
    "#количество итераций обучения\n",
    "epochs = 18"
   ]
  },
  {
   "cell_type": "code",
   "execution_count": 154,
   "id": "5dd0d21c-27ef-4b69-9112-4a73c5025dbc",
   "metadata": {
    "scrolled": true
   },
   "outputs": [
    {
     "name": "stdout",
     "output_type": "stream",
     "text": [
      "Соответствие, вероятность\n",
      "Соответствие | i   ->   je | Вероятность: 1.0\n",
      "Соответствие | i   ->   suis | Вероятность: 0.0\n",
      "Соответствие | i   ->   d | Вероятность: 0.0\n",
      "Соответствие | i   ->   accord | Вероятность: 0.254\n",
      "Соответствие | i   ->   avec | Вероятность: 0.0\n",
      "Соответствие | i   ->   votre | Вероятность: 0.0\n",
      "Соответствие | i   ->   analyse | Вероятность: 0.0\n",
      "Соответствие | agree   ->   je | Вероятность: 0.0\n",
      "Соответствие | agree   ->   suis | Вероятность: 0.359\n",
      "Соответствие | agree   ->   d | Вероятность: 0.0\n",
      "Соответствие | agree   ->   accord | Вероятность: 0.268\n",
      "Соответствие | agree   ->   avec | Вероятность: 0.0\n",
      "Соответствие | agree   ->   votre | Вероятность: 0.0\n",
      "Соответствие | agree   ->   analyse | Вероятность: 0.0\n",
      "Соответствие | with   ->   je | Вероятность: 0.0\n",
      "Соответствие | with   ->   suis | Вероятность: 0.282\n",
      "Соответствие | with   ->   d | Вероятность: 0.0\n",
      "Соответствие | with   ->   accord | Вероятность: 0.21\n",
      "Соответствие | with   ->   avec | Вероятность: 0.135\n",
      "Соответствие | with   ->   votre | Вероятность: 0.0\n",
      "Соответствие | with   ->   analyse | Вероятность: 0.0\n",
      "Соответствие | your   ->   je | Вероятность: 0.0\n",
      "Соответствие | your   ->   suis | Вероятность: 0.0\n",
      "Соответствие | your   ->   d | Вероятность: 0.0\n",
      "Соответствие | your   ->   accord | Вероятность: 0.0\n",
      "Соответствие | your   ->   avec | Вероятность: 0.0\n",
      "Соответствие | your   ->   votre | Вероятность: 0.69\n",
      "Соответствие | your   ->   analyse | Вероятность: 0.0\n",
      "Соответствие | analysis   ->   je | Вероятность: 0.0\n",
      "Соответствие | analysis   ->   suis | Вероятность: 0.359\n"
     ]
    }
   ],
   "source": [
    "for epoch in range(epochs):\n",
    "  #начинаем обучение\n",
    "\n",
    "  #шаг 0. создаем слоты для подсчета статистики\n",
    "  count = {} # P(x|y)\n",
    "  total = {} # P(y)\n",
    "\n",
    "  for i in range(len(X_train)):\n",
    "    #начинаем итерацию по обучающей выборке\n",
    "    for word_x in X_train_tokens[i]:\n",
    "      for word_y in y_train_tokens[i]:\n",
    "        #создаем слоты для подсчета условной вероятности совпадений в корпусе\n",
    "        count[(word_x, word_y)] = 0\n",
    "        #и слоты для статистической языковой модели y\n",
    "        total[word_y] = 0\n",
    "\n",
    "  #шаг 1. Expectation\n",
    "  for i in range(len(X_train)):\n",
    "    #начинаем итерацию по обучающей выборке\n",
    "    total_stat = {} # статистика x\n",
    "\n",
    "    #собираем предварительную статистику на основе данных x\n",
    "    for word_x in X_train_tokens[i]:\n",
    "      total_stat[word_x] = 0 # создаем слоты для подсчета статистики по каждому токену x\n",
    "      for word_y in y_train_tokens[i]:\n",
    "        #обновляем данные из t-table; увеличиваем значения при обнаружении совместной встречаемости\n",
    "        total_stat[word_x] += t[(word_x, word_y)]\n",
    "\n",
    "    #обновляем данные для P(x|y) и P(y)\n",
    "    for word_x in X_train_tokens[i]:\n",
    "      for word_y in y_train_tokens[i]:\n",
    "        #подсчет условной вероятности совпадений в корпусе: равномерное распределение / частотность x\n",
    "        count[(word_x, word_y)] += t[(word_x, word_y)] / total_stat[word_x]\n",
    "        #подсчет статистической информации y: равномерное распределение / частотность x\n",
    "        total[word_y] += t[(word_x, word_y)] / total_stat[word_x]\n",
    "\n",
    "  #шаг 2. Maximization\n",
    "  for i in range(len(X_train)):\n",
    "    #начинаем итерацию по обучающей выборке\n",
    "    for word_x in X_train_tokens[i]:\n",
    "      for word_y in y_train_tokens[i]:\n",
    "        #обновляем t-table: вероятность совпадения в корпусе / вероятность информации y\n",
    "        t[(word_x, word_y)] = count[(word_x, word_y)] / total[word_y]\n",
    "\n",
    "cn = 0\n",
    "print (\"Соответствие, вероятность\")\n",
    "for elem in t:\n",
    "  print(\"Соответствие |\", elem[0], \"  ->  \", elem[1], \"| Вероятность:\", round(t[elem], 3))\n",
    "  cn+=1\n",
    "  if cn==30:\n",
    "    break #чтобы вывести не всё-всё, а только часть"
   ]
  },
  {
   "cell_type": "markdown",
   "id": "cb7715bb-ed76-4aaf-98ed-fe2afcce73f0",
   "metadata": {},
   "source": [
    "Получается правдоподобно, например:\n",
    "\n",
    "Соответствие | i   ->   je | Вероятность: 1.0\n",
    "\n",
    "Соответствие | your   ->   votre | Вероятность: 0.69"
   ]
  },
  {
   "cell_type": "markdown",
   "id": "568d77f0-b0dd-4c8a-9ebf-77ab2e12f25d",
   "metadata": {},
   "source": [
    "### Биграммная модель"
   ]
  },
  {
   "cell_type": "code",
   "execution_count": 155,
   "id": "36cb9dc7-48a0-4375-a170-e0274aaeb83a",
   "metadata": {},
   "outputs": [
    {
     "name": "stdout",
     "output_type": "stream",
     "text": [
      "['reprise', 'de', 'la', 'session', 'je', 'vous', 'invite', 'à', 'lever', 'pour']\n",
      "Шаг 1\n",
      "Правдоподобные варианты продолжения для токена les: ['escaliers', 'zones', 'choses', 'états', 'producteurs', 'décisions', 'modifications', 'positions', 'explications', 'positions', 'normes', 'intervenants', 'gens', 'régions', 'états', 'quatre', 'riches', 'pauvres', 'projets', 'conséquences', 'patrons', 'capacités', 'pme', 'projets', 'fonds', 'subventions', 'infrastructures', 'services', 'états', 'fonds', 'fonds', 'écarts', 'efforts', 'résultats', 'situations', 'régions', 'régions', 'fruits', 'choses', 'rapports', 'données', 'états', 'états', 'règles', 'lignes', 'gouvernements', 'subventions', 'pays', 'monopoles', 'monopoles', 'prix', 'régions', 'gains', 'aides', 'aides', 'travailleurs']\n",
      "Промежуточный результат: les patrons\n",
      "\n",
      "Шаг 2\n",
      "Правдоподобные варианты продолжения для токена patrons: ['des']\n",
      "Промежуточный результат: les patrons des\n",
      "\n",
      "Шаг 3\n",
      "Правдоподобные варианты продолжения для токена des: ['principes', 'positions', 'réglementations', 'travaux', 'décisions', 'travaux', 'transports', 'exigences', 'examens', 'exigences', 'exigences', 'citernes', 'substances', 'transports', 'propositions', 'réglementations', 'règles', 'conditions', 'égards', 'points', 'financements', 'structures', 'petites', 'politiques', 'lignes', 'couches', 'états', 'enveloppes', 'pas', 'fonds', 'fonds', 'états', 'priorités', 'économies', 'négociations', 'régions', 'conclusions', 'activités', 'fonds', 'pays', 'problèmes', 'taux', 'observations', 'travaux', 'deux', 'solutions', 'aides', 'aides', 'structures', 'prix', 'autorités', 'responsabilités', 'humains', 'états', 'conditions', 'contrôles']\n",
      "Промежуточный результат: les patrons des taux\n",
      "\n",
      "Шаг 4\n",
      "Правдоподобные варианты продолжения для токена taux: ['de', 'est']\n",
      "Промежуточный результат: les patrons des taux est\n",
      "\n",
      "Шаг 5\n",
      "Правдоподобные варианты продолжения для токена est: ['une', 'd', 'une', 'en', 'scandaleux', 'pas', 'extrêmement', 'pourquoi', 'pas', 'important', 'une', 'dommage', 'très', 'fait', 'clos', 'pourquoi', 'contrariant', 'donc', 'également', 'à', 'positif', 'clos', 'un', 'le', 'important', 'particulièrement', 'tout', 'ce', 'd', 'un', 'ceci', 'd', 'vrai', 'intervenue', 'le', 'clos', 'donc', 'monsieur', 'inégale', 'favorable', 'bien', 'la', 'le', 'donné', 'de', 'pas', 'le', 'clos', 'levée', 'logique', 'donc', 'adopté', 'de', 'un', 'nécessaire', 'un', 'pas', 'justement', 'la', 'le', 'la', 'efforcée', 'aussi', 'pas', 'considéré', 'déclarée', 'là', 'cela']\n",
      "Промежуточный результат: les patrons des taux est ceci\n",
      "\n",
      "Результат: les patrons des taux est ceci\n"
     ]
    }
   ],
   "source": [
    "#для обучения модели объединим 2 выборки\n",
    "tokens = ' '.join(french).split()\n",
    "\n",
    "#хранилище для биграмм\n",
    "bigram_model = defaultdict(list)\n",
    "\n",
    "#собираем все попарные совпадения\n",
    "for i in range(len(tokens)-1):\n",
    "    current_word = tokens[i]\n",
    "    next_word = tokens[i + 1]\n",
    "    bigram_model[current_word].append(next_word)\n",
    "\n",
    "print(list(bigram_model)[:10])\n",
    "\n",
    "def decoder(model, steps=5):\n",
    "  #инициализация случайного токена\n",
    "  current_word = random.choice(tokens)\n",
    "  generated_sentence = current_word\n",
    "\n",
    "  for step in range(steps):\n",
    "    #пошаговая генерация\n",
    "    print('Шаг', step+1)\n",
    "    next_word_options = model[current_word]\n",
    "    print(f'Правдоподобные варианты продолжения для токена {current_word}:', next_word_options)\n",
    "\n",
    "    current_word = random.choice(next_word_options)\n",
    "    generated_sentence += ' '\n",
    "    generated_sentence += current_word\n",
    "    print('Промежуточный результат:', generated_sentence)\n",
    "    print()\n",
    "  print('Результат:', generated_sentence)\n",
    "\n",
    "decoder(bigram_model)"
   ]
  },
  {
   "cell_type": "markdown",
   "id": "b864f83b-00d7-4d90-a76a-92b04b0f4539",
   "metadata": {},
   "source": [
    "## 3: Оценка результатов"
   ]
  },
  {
   "cell_type": "code",
   "execution_count": 156,
   "id": "a5993081-0bba-4057-b984-539b8278b7f8",
   "metadata": {
    "scrolled": true
   },
   "outputs": [
    {
     "name": "stdout",
     "output_type": "stream",
     "text": [
      "Оригинальное предложение: la plupart des propositions d amendement sont de nature purement technique\n",
      "Перевод: the the very to very who of\n",
      "Оригинальное предложение: les subventions ne suffisent pas pour faire du développement quand font défaut les infrastructures ou les services publics\n",
      "Перевод: the one not not to a the development inspire transparent the obstacle will the will turned\n",
      "Оригинальное предложение: ce point est d une extrême importance\n",
      "Перевод: this point is to a\n",
      "Оригинальное предложение: nous obtenons progressivement secteur après secteur que les états membres appliquent des règles minimales communes\n",
      "Перевод: we were were that the states member the rules minimum\n",
      "Оригинальное предложение: je suggère à m evans d aller relire le règlement\n",
      "Перевод: i to mr suggested to together the regulation\n",
      "Оригинальное предложение: ce n est pas demander beaucoup\n",
      "Перевод: this not is not your very\n",
      "Оригинальное предложение: cela constituera un test pour ce qui est de la coopération judicieuse des deux institutions\n",
      "Перевод: this a to this which is of the the up\n",
      "Оригинальное предложение: il est particulièrement important de faire participer les pme à cette élaboration et à cette mise en uvre\n",
      "Перевод: it is welcomed important of a the to this and to this would the would\n",
      "Оригинальное предложение: le procèsverbal de la séance d hier a été distribué\n",
      "Перевод: the minutes of the was to has been\n",
      "Оригинальное предложение: monsieur cox monsieur hänsch estce que cela vous convient\n",
      "Перевод: mr cox mr that this you\n",
      "Оригинальное предложение: vous nous avez montré la voie monsieur monti avec un tableau de résultats concernant le marché intérieur\n",
      "Перевод: you we you the path mr with a with of results the market internal\n",
      "Оригинальное предложение: il convient donc d émettre quelques réserves sur l efficacité du soutien communautaire\n",
      "Перевод: it therefore to make should on the own the\n",
      "Оригинальное предложение: il est important d identifier les capacités et potentialités de nos régions dans le secteur de la haute technologie\n",
      "Перевод: it is important to the and of our regions in the were of the\n",
      "Оригинальное предложение: le débat est clos\n",
      "Перевод: the debate is closed\n",
      "Оригинальное предложение: madame ahern nous en avons pris note\n",
      "Перевод: madam we the have taken note\n",
      "Оригинальное предложение: madame la présidente je voudrais faire quelques remarques\n",
      "Перевод: madam the president i like a should make\n",
      "Оригинальное предложение: nous avons vu le fossé entre les riches et les pauvres se creuser\n",
      "Перевод: we have the between the and the is\n",
      "Оригинальное предложение: c est pourquoi mon groupe demande que ce point soit retiré de l ordre du jour\n",
      "Перевод: this is thus my group to that this point be of the agenda the s\n",
      "Оригинальное предложение: le vote aura lieu demain à heures\n",
      "Перевод: the vote at room tomorrow to pm\n",
      "Оригинальное предложение: c est important\n",
      "Перевод: this is important\n"
     ]
    }
   ],
   "source": [
    "#сортировка t-table по убыванию правдоподобия\n",
    "sorted_t = sorted(t.items(), key = lambda k:(k[1], k[0]), reverse = True)\n",
    "#print(sorted_t)\n",
    "def translate(token):\n",
    "  for element in sorted_t:\n",
    "    if element[0][1] == token:\n",
    "      # поиск совпадений в t-table\n",
    "      return element[0][0]\n",
    "\n",
    "cn = 0\n",
    "for sentence in y_test_tokens:\n",
    "  print(\"Оригинальное предложение:\", ' '.join(sentence))\n",
    "  translation = []\n",
    "  for token in sentence:\n",
    "    if translate(token):\n",
    "        translation.append(translate(token))\n",
    "  print(\"Перевод:\", ' '.join(translation))\n",
    "  cn+=1\n",
    "  if cn==20:\n",
    "     break #чтобы вывести 20 шт."
   ]
  },
  {
   "cell_type": "code",
   "execution_count": 157,
   "id": "c90580e4-a6e2-48d1-886c-24400bce7f4a",
   "metadata": {},
   "outputs": [
    {
     "name": "stdout",
     "output_type": "stream",
     "text": [
      "['la', 'plupart', 'des', 'propositions', 'd', 'amendement', 'sont', 'de', 'nature', 'purement', 'technique']\n",
      "reference:     [['most', 'of', 'the', 'proposed', 'amendments', 'are', 'of', 'a', 'purely', 'technical', 'nature'], ['subsidies', 'are', 'not', 'enough', 'to', 'ensure', 'development', 'when', 'infrastructure', 'and', 'public', 'services', 'are', 'lacking'], ['this', 'latter', 'point', 'is', 'of', 'particular', 'importance'], ['in', 'area', 'after', 'area', 'we', 'are', 'now', 'obtaining', 'common', 'minimum', 'regulations', 'for', 'the', 'member', 'states'], ['i', 'suggest', 'mr', 'evans', 'goes', 'back', 'and', 'reads', 'the', 'regulation'], ['it', 'is', 'not', 'a', 'lot', 'to', 'ask'], ['this', 'will', 'be', 'a', 'good', 'test', 'as', 'to', 'whether', 'there', 'is', 'reasonable', 'cooperation', 'between', 'the', 'two', 'institutions']]\n",
      "candidate:      ['the', 'the', 'very', 'to', 'very', 'who', 'of']\n",
      "7 7\n",
      "BLEU Score: 4.739433789388674e-78\n"
     ]
    }
   ],
   "source": [
    "from nltk.translate.bleu_score import corpus_bleu\n",
    "\n",
    "print(y_test_tokens[0])\n",
    "candidate = [translate(token) for token in y_test_tokens[0] if translate(token)]\n",
    "reference = [X_test_tokens[i] for i in range(len(candidate))]\n",
    "\n",
    "print('reference:    ',reference)\n",
    "print('candidate:     ',candidate)\n",
    "print(len(reference), len(candidate))\n",
    "bleu_score = corpus_bleu(reference, candidate)\n",
    "\n",
    "print(\"BLEU Score:\", bleu_score)"
   ]
  }
 ],
 "metadata": {
  "kernelspec": {
   "display_name": "Python 3 (ipykernel)",
   "language": "python",
   "name": "python3"
  },
  "language_info": {
   "codemirror_mode": {
    "name": "ipython",
    "version": 3
   },
   "file_extension": ".py",
   "mimetype": "text/x-python",
   "name": "python",
   "nbconvert_exporter": "python",
   "pygments_lexer": "ipython3",
   "version": "3.9.6"
  }
 },
 "nbformat": 4,
 "nbformat_minor": 5
}
